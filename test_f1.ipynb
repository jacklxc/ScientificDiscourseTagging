{
 "cells": [
  {
   "cell_type": "code",
   "execution_count": 1,
   "metadata": {},
   "outputs": [],
   "source": [
    "import numpy as np\n",
    "from util import read_passages\n",
    "from operator import itemgetter, attrgetter\n",
    "from sklearn.metrics import f1_score, confusion_matrix\n",
    "import matplotlib.pyplot as plt\n",
    "import itertools"
   ]
  },
  {
   "cell_type": "code",
   "execution_count": 2,
   "metadata": {},
   "outputs": [],
   "source": [
    "def sortByCount(array):\n",
    "    \"\"\"\n",
    "    Given a list, count the number of each element and sort them according to the most frequent to the least frequent.\n",
    "    Returns a list of tuples, (item, count).\n",
    "    \"\"\"\n",
    "    array_dict = {}\n",
    "    for item in list(set(array)):\n",
    "        array_dict[item] = 0\n",
    "    for item in array:\n",
    "        array_dict[item] += 1\n",
    "    sorted_list = [(item, count) for item, count in array_dict.items()]\n",
    "    sorted_list = sorted(sorted_list, key=itemgetter(1), reverse=True)\n",
    "    return sorted_list"
   ]
  },
  {
   "cell_type": "code",
   "execution_count": 7,
   "metadata": {},
   "outputs": [],
   "source": [
    "pred_file = \"predictions/lucky_testatt=True_cont=word_lstm=False_bi=True_crf=True.out\"\n",
    "test_data = \"lucky_test.txt\"\n"
   ]
  },
  {
   "cell_type": "code",
   "execution_count": 8,
   "metadata": {},
   "outputs": [
    {
     "name": "stdout",
     "output_type": "stream",
     "text": [
      "F1 score: 0.7964487570659828\n"
     ]
    }
   ],
   "source": [
    "str_seqs, label_seqs = read_passages(test_data,True)\n",
    "\n",
    "pred_labels, _ = read_passages(pred_file, False)    \n",
    "\n",
    "def linearize(labels):\n",
    "    linearized = []\n",
    "    for paper in labels:\n",
    "        for label in paper:\n",
    "            linearized.append(label)\n",
    "    return linearized\n",
    "\n",
    "true_label = linearize(label_seqs)\n",
    "pred_label = linearize(pred_labels)\n",
    "\n",
    "f1 = f1_score(true_label,pred_label,average=\"weighted\")\n",
    "print(\"F1 score:\",f1)"
   ]
  },
  {
   "cell_type": "code",
   "execution_count": null,
   "metadata": {},
   "outputs": [],
   "source": [
    "def plot_confusion_matrix(cm, classes,\n",
    "                          normalize=False,\n",
    "                          title='Confusion matrix',\n",
    "                          cmap=plt.cm.Blues):\n",
    "    \"\"\"\n",
    "    This function prints and plots the confusion matrix.\n",
    "    Normalization can be applied by setting `normalize=True`.\n",
    "    \"\"\"\n",
    "    if normalize:\n",
    "        cm = cm.astype('float') / cm.sum(axis=1)[:, np.newaxis]\n",
    "        #print(\"Normalized confusion matrix\")\n",
    "    else:\n",
    "        print('Confusion matrix, without normalization')\n",
    "\n",
    "    #print(cm)\n",
    "    plt.figure(figsize=(6,4.5))\n",
    "    plt.imshow(cm, interpolation='nearest', aspect='auto', cmap=cmap)\n",
    "    plt.title(title)\n",
    "    #plt.colorbar()\n",
    "    tick_marks = np.arange(len(classes))\n",
    "    plt.xticks(tick_marks, classes, rotation=45)\n",
    "    plt.yticks(tick_marks, classes)\n",
    "    plt.ylim([-0.5, len(classes)-0.5])\n",
    "    fmt = '.2f' if normalize else 'd'\n",
    "    thresh = cm.max() / 2.\n",
    "    for i, j in itertools.product(range(cm.shape[0]), range(cm.shape[1])):\n",
    "        plt.text(j, i, format(cm[i, j], fmt),\n",
    "                 horizontalalignment=\"center\",\n",
    "                 color=\"white\" if cm[i, j] > thresh else \"black\")\n",
    "\n",
    "    plt.ylabel('True label')\n",
    "    plt.xlabel('Predicted label')\n",
    "    plt.tight_layout()\n",
    "    #plt.show()\n",
    "    filename = \"confusion_matrix.pdf\"\n",
    "    plt.savefig(filename,quality=100,bbox_inches='tight')"
   ]
  },
  {
   "cell_type": "code",
   "execution_count": null,
   "metadata": {},
   "outputs": [],
   "source": [
    "plt.rcParams.update({'font.size': 14})"
   ]
  },
  {
   "cell_type": "code",
   "execution_count": null,
   "metadata": {},
   "outputs": [],
   "source": [
    "cnf_matrix = confusion_matrix(true_label,pred_label)\n",
    "plot_confusion_matrix(cnf_matrix, classes=np.unique(true_label), normalize=True,\n",
    "                      title='')"
   ]
  },
  {
   "cell_type": "code",
   "execution_count": null,
   "metadata": {},
   "outputs": [],
   "source": []
  }
 ],
 "metadata": {
  "kernelspec": {
   "display_name": "Python 3",
   "language": "python",
   "name": "python3"
  },
  "language_info": {
   "codemirror_mode": {
    "name": "ipython",
    "version": 3
   },
   "file_extension": ".py",
   "mimetype": "text/x-python",
   "name": "python",
   "nbconvert_exporter": "python",
   "pygments_lexer": "ipython3",
   "version": "3.6.9"
  }
 },
 "nbformat": 4,
 "nbformat_minor": 2
}
