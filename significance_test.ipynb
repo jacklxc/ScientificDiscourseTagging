{
 "cells": [
  {
   "cell_type": "code",
   "execution_count": 1,
   "metadata": {},
   "outputs": [],
   "source": [
    "%load_ext autoreload\n",
    "%autoreload 2\n",
    "import numpy as np\n",
    "\n",
    "from util import read_passages\n",
    "import matplotlib.pyplot as plt\n",
    "from sklearn.metrics import f1_score, confusion_matrix\n",
    "from mlxtend.evaluate import mcnemar"
   ]
  },
  {
   "cell_type": "code",
   "execution_count": 2,
   "metadata": {},
   "outputs": [],
   "source": [
    "testfilename = \"lucky_test.txt\"\n",
    "test_seqs, test_labels = read_passages(testfilename, is_labeled=True)"
   ]
  },
  {
   "cell_type": "code",
   "execution_count": 3,
   "metadata": {},
   "outputs": [],
   "source": [
    "def linearize(labels):\n",
    "    linearized = []\n",
    "    for paper in labels:\n",
    "        for label in paper:\n",
    "            linearized.append(label)\n",
    "    return linearized"
   ]
  },
  {
   "cell_type": "code",
   "execution_count": 4,
   "metadata": {},
   "outputs": [],
   "source": [
    "def read_label(pred_file):\n",
    "    all_labels = []\n",
    "    labels = []\n",
    "    with open(pred_file,\"r\") as f:\n",
    "        for line in f:\n",
    "            label = line.strip()\n",
    "            if len(label)>0:\n",
    "                labels.append(label)\n",
    "            else:\n",
    "                all_labels.append(labels)\n",
    "                labels = []\n",
    "        all_labels.append(labels)\n",
    "    return all_labels"
   ]
  },
  {
   "cell_type": "code",
   "execution_count": 6,
   "metadata": {},
   "outputs": [],
   "source": [
    "bert_predictions = read_label(\"predictions/lucky_testatt=True_cont=LSTM_clause_lstm=False_bi=True_crf=True.out\")\n",
    "scidt_predictions = read_label(\"scidt_test.out\")"
   ]
  },
  {
   "cell_type": "code",
   "execution_count": 7,
   "metadata": {},
   "outputs": [],
   "source": [
    "linearized_gold = linearize(test_labels)\n",
    "linearized_predictions_bert = linearize(bert_predictions)\n",
    "linearized_predictions_scidt = linearize(scidt_predictions)"
   ]
  },
  {
   "cell_type": "code",
   "execution_count": 8,
   "metadata": {},
   "outputs": [
    {
     "data": {
      "text/plain": [
       "0.8433908497588596"
      ]
     },
     "execution_count": 8,
     "metadata": {},
     "output_type": "execute_result"
    }
   ],
   "source": [
    "f1_score(linearized_gold,linearized_predictions_bert,average=\"weighted\")"
   ]
  },
  {
   "cell_type": "code",
   "execution_count": 9,
   "metadata": {},
   "outputs": [],
   "source": [
    "yesyes = 0\n",
    "yesno = 0\n",
    "noyes = 0\n",
    "nono = 0\n",
    "for bert_label, scidt_label, gold_label in zip(linearized_predictions_bert, linearized_predictions_scidt, linearized_gold):\n",
    "    if bert_label==gold_label and scidt_label==gold_label:\n",
    "        yesyes += 1\n",
    "    elif bert_label==gold_label and scidt_label!=gold_label:\n",
    "        yesno += 1\n",
    "    elif bert_label!=gold_label and scidt_label==gold_label:\n",
    "        noyes += 1\n",
    "    elif bert_label!=gold_label and scidt_label!=gold_label:\n",
    "        nono += 1\n",
    "table = [[yesyes,yesno],[noyes,nono]]"
   ]
  },
  {
   "cell_type": "code",
   "execution_count": 10,
   "metadata": {},
   "outputs": [],
   "source": [
    "stat,p = mcnemar(ary = np.array(table), corrected=True)"
   ]
  },
  {
   "cell_type": "code",
   "execution_count": 11,
   "metadata": {},
   "outputs": [
    {
     "data": {
      "text/plain": [
       "0.0019777271411328635"
      ]
     },
     "execution_count": 11,
     "metadata": {},
     "output_type": "execute_result"
    }
   ],
   "source": [
    "p"
   ]
  },
  {
   "cell_type": "code",
   "execution_count": null,
   "metadata": {},
   "outputs": [],
   "source": []
  }
 ],
 "metadata": {
  "kernelspec": {
   "display_name": "Python 3",
   "language": "python",
   "name": "python3"
  },
  "language_info": {
   "codemirror_mode": {
    "name": "ipython",
    "version": 3
   },
   "file_extension": ".py",
   "mimetype": "text/x-python",
   "name": "python",
   "nbconvert_exporter": "python",
   "pygments_lexer": "ipython3",
   "version": "3.6.9"
  }
 },
 "nbformat": 4,
 "nbformat_minor": 2
}
