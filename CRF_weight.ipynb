{
 "cells": [
  {
   "cell_type": "code",
   "execution_count": 1,
   "metadata": {},
   "outputs": [
    {
     "name": "stderr",
     "output_type": "stream",
     "text": [
      "Using TensorFlow backend.\n"
     ]
    }
   ],
   "source": [
    "import os\n",
    "import warnings\n",
    "import sys\n",
    "import codecs\n",
    "import numpy as np\n",
    "import argparse\n",
    "import json\n",
    "import pickle\n",
    "\n",
    "from util import read_passages, evaluate, make_folds, clean_words, test_f1, to_BIO, from_BIO, from_BIO_ind, arg2param\n",
    "\n",
    "from keras.activations import softmax\n",
    "from keras.regularizers import l2\n",
    "from keras.models import Model, model_from_json\n",
    "from keras.layers import Input, LSTM, Dense, Dropout, TimeDistributed, Bidirectional\n",
    "from keras.callbacks import EarlyStopping,LearningRateScheduler, ModelCheckpoint\n",
    "from keras.optimizers import Adam, RMSprop, SGD\n",
    "from crf import CRF\n",
    "from attention import TensorAttention\n",
    "from custom_layers import HigherOrderTimeDistributedDense\n",
    "from generator import BertDiscourseGenerator\n",
    "from keras_bert import load_trained_model_from_checkpoint, Tokenizer\n",
    "\n",
    "from discourse_tagger_generator_bert import PassageTagger\n",
    "\n",
    "import matplotlib.pyplot as plt\n",
    "from scipy.special import softmax\n",
    "from matplotlib import transforms"
   ]
  },
  {
   "cell_type": "code",
   "execution_count": 2,
   "metadata": {},
   "outputs": [],
   "source": [
    "use_attention = True\n",
    "att_context = \"LSTM_clause\"\n",
    "bidirectional = bid = True\n",
    "crf = True\n",
    "lstm = False\n",
    "maxseqlen = 40\n",
    "maxclauselen = 60\n",
    "input_size = 768\n",
    "embedding_dropout=0.4 \n",
    "high_dense_dropout=0.4\n",
    "attention_dropout=0.6\n",
    "lstm_dropout=0.5\n",
    "word_proj_dim=300 \n",
    "hard_k=0 \n",
    "lstm_dim = 350 \n",
    "rec_hid_dim = 75 \n",
    "att_proj_dim = 200 \n",
    "batch_size = 10\n",
    "reg=0\n"
   ]
  },
  {
   "cell_type": "code",
   "execution_count": 29,
   "metadata": {},
   "outputs": [],
   "source": [
    "prefix=\"scidt_scibert/\"\n",
    "model_ext = \"att=%s_cont=%s_lstm=%s_bi=%s_crf=%s\"%(str(use_attention), att_context, str(lstm), str(bid), str(crf))\n",
    "model_config_file = open(prefix+\"model_%s_config.json\"%model_ext, \"r\")\n",
    "model_weights_file_name = prefix+\"model_%s_weights\"%model_ext\n",
    "model_label_ind = prefix+\"model_%s_label_ind.json\"%model_ext\n",
    "label_ind_json = json.load(open(model_label_ind))\n",
    "label_ind = {k: int(label_ind_json[k]) for k in label_ind_json}\n",
    "num_classes = len(label_ind)"
   ]
  },
  {
   "cell_type": "code",
   "execution_count": 30,
   "metadata": {},
   "outputs": [],
   "source": [
    "if use_attention:\n",
    "    inputs = Input(shape=(maxseqlen, maxclauselen, input_size))\n",
    "    x = Dropout(embedding_dropout)(inputs)\n",
    "    x = HigherOrderTimeDistributedDense(input_dim=input_size, output_dim=word_proj_dim, reg=reg)(x)\n",
    "    att_input_shape = (maxseqlen, maxclauselen, word_proj_dim)\n",
    "    x = Dropout(high_dense_dropout)(x)\n",
    "    x, raw_attention = TensorAttention(att_input_shape, context=att_context, hard_k=hard_k, proj_dim = att_proj_dim, rec_hid_dim = rec_hid_dim, return_attention=True)(x)\n",
    "    x = Dropout(attention_dropout)(x)\n",
    "else:\n",
    "    inputs = Input(shape=(maxseqlen, input_size))\n",
    "    x = Dropout(embedding_dropout)(inputs)\n",
    "    x = TimeDistributed(Dense(input_dim=input_size, units=word_proj_dim))\n",
    "\n",
    "if bidirectional:\n",
    "    x = Bidirectional(LSTM(input_shape=(maxseqlen,word_proj_dim), units=lstm_dim, \n",
    "                                  return_sequences=True,kernel_regularizer=l2(reg),\n",
    "                                  recurrent_regularizer=l2(reg), \n",
    "                                  bias_regularizer=l2(reg)))(x)\n",
    "    x = Dropout(lstm_dropout)(x) \n",
    "elif lstm:\n",
    "    x = LSTM(input_shape=(maxseqlen,word_proj_dim), units=lstm_dim, return_sequences=True,\n",
    "                    kernel_regularizer=l2(reg),\n",
    "                    recurrent_regularizer=l2(reg), \n",
    "                    bias_regularizer=l2(reg))(x)\n",
    "    x = Dropout(lstm_dropout)(x) \n",
    "\n",
    "if crf:\n",
    "    Crf = CRF(num_classes,learn_mode=\"join\")\n",
    "    discourse_prediction = Crf(x)\n",
    "    tagger = Model(inputs=inputs, outputs=[discourse_prediction])        \n",
    "else:\n",
    "    discourse_prediction = TimeDistributed(Dense(num_classes, activation='softmax'),name='discourse')(x)\n",
    "    tagger = Model(inputs=inputs, outputs=[discourse_prediction])"
   ]
  },
  {
   "cell_type": "code",
   "execution_count": 31,
   "metadata": {},
   "outputs": [],
   "source": [
    "tagger.load_weights(model_weights_file_name)\n"
   ]
  },
  {
   "cell_type": "code",
   "execution_count": 32,
   "metadata": {},
   "outputs": [
    {
     "data": {
      "text/plain": [
       "'crf_2'"
      ]
     },
     "execution_count": 32,
     "metadata": {},
     "output_type": "execute_result"
    }
   ],
   "source": [
    "tagger.layers[-1].name"
   ]
  },
  {
   "cell_type": "code",
   "execution_count": 33,
   "metadata": {},
   "outputs": [],
   "source": [
    "weights = tagger.layers[-1].get_weights()"
   ]
  },
  {
   "cell_type": "code",
   "execution_count": 34,
   "metadata": {},
   "outputs": [],
   "source": [
    "reverse_ind = {i: l for (l, i) in label_ind.items()}"
   ]
  },
  {
   "cell_type": "code",
   "execution_count": 35,
   "metadata": {},
   "outputs": [],
   "source": [
    "transition_weight = weights[1]"
   ]
  },
  {
   "cell_type": "code",
   "execution_count": 36,
   "metadata": {},
   "outputs": [
    {
     "data": {
      "image/png": "[encoded data removed]",
      "text/plain": [
       "<Figure size 432x288 with 1 Axes>"
      ]
     },
     "metadata": {
      "needs_background": "light"
     },
     "output_type": "display_data"
    }
   ],
   "source": [
    "plt.figure()\n",
    "label_size = len(reverse_ind)\n",
    "plt.imshow(transition_weight,cmap=\"gray\",aspect=\"equal\")\n",
    "plt.xticks(range(label_size), [reverse_ind[i] for i in range(label_size)], rotation='vertical')\n",
    "plt.yticks(range(label_size), [reverse_ind[i] for i in range(label_size)])\n",
    "plt.ylim([-0.5,label_size-0.5])\n",
    "#plt.colorbar()\n",
    "#plt.title(\"linear chain CRF weight\")\n",
    "#plt.show()\n",
    "filename = \"CRF.pdf\"\n",
    "plt.savefig(filename,quality=100,bbox_inches='tight')"
   ]
  },
  {
   "cell_type": "code",
   "execution_count": null,
   "metadata": {},
   "outputs": [],
   "source": []
  }
 ],
 "metadata": {
  "kernelspec": {
   "display_name": "Python 3",
   "language": "python",
   "name": "python3"
  },
  "language_info": {
   "codemirror_mode": {
    "name": "ipython",
    "version": 3
   },
   "file_extension": ".py",
   "mimetype": "text/x-python",
   "name": "python",
   "nbconvert_exporter": "python",
   "pygments_lexer": "ipython3",
   "version": "3.6.9"
  }
 },
 "nbformat": 4,
 "nbformat_minor": 2
}
