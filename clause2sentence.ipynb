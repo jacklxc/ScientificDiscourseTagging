{
 "cells": [
  {
   "cell_type": "code",
   "execution_count": 1,
   "metadata": {},
   "outputs": [],
   "source": [
    "import re\n",
    "from util import read_passages\n",
    "from operator import itemgetter, attrgetter"
   ]
  },
  {
   "cell_type": "code",
   "execution_count": 51,
   "metadata": {},
   "outputs": [],
   "source": [
    "firstConvertion = {\n",
    "    \"goal\": \"OBJECTIVE\",\n",
    "    \"hypothesis\": \"OBJECTIVE\",\n",
    "    \"fact\": \"BACKGROUND\",\n",
    "    \"problem\": \"BACKGROUND\",\n",
    "    \"method\": \"METHODS\",\n",
    "    \"result\": \"RESULTS\",\n",
    "    \"implication\": \"CONCLUSIONS\",\n",
    "    \"none\":\"BACKGROUND\"\n",
    "}\n",
    "\n",
    "def hierarchicalDecision(labels):\n",
    "    hierarchy = [\"OBJECTIVE\", \"BACKGROUND\", \"METHODS\", \"RESULTS\", \"CONCLUSIONS\"]\n",
    "    for answer in hierarchy:\n",
    "        if answer in labels:\n",
    "            return answer\n",
    "    assert(0)\n",
    "    \n",
    "def mergeFigureApprearance(figures):\n",
    "    deduplicated = list(set(figures))\n",
    "    if len(deduplicated)>1:\n",
    "        no_nan = []\n",
    "        for item in deduplicated:\n",
    "            if type(item)==str:\n",
    "                no_nan.extend(item.split(\"|\"))\n",
    "        deduplicated = [\"|\".join(list(set(no_nan)))]\n",
    "        \n",
    "    return deduplicated[0]"
   ]
  },
  {
   "cell_type": "code",
   "execution_count": 52,
   "metadata": {},
   "outputs": [],
   "source": [
    "def clause2sentence(str_seqs, label_seqs):\n",
    "    sentence_seqs = []\n",
    "    new_label_seqs = []\n",
    "    for str_seq, label_seq in zip(str_seqs, label_seqs):\n",
    "        sentence_seq = []\n",
    "        new_label_seq = []\n",
    "        labels = []\n",
    "        last_token = \"\"\n",
    "        sentence = \"\"\n",
    "        for clause, label in zip(str_seq, label_seq):\n",
    "            if last_token == \".\":\n",
    "                sentence_seq.append(sentence)\n",
    "                RCT_labels = [firstConvertion[label] for label in labels]\n",
    "                new_label_seq.append(hierarchicalDecision(RCT_labels))\n",
    "                #print(sentence, figure_appearance, mergeFigureApprearance(figure_appearance))\n",
    "                sentence = \"\"\n",
    "                labels = []\n",
    "\n",
    "            clause = clause.strip()\n",
    "            sentence+=clause+\" \"\n",
    "            labels.append(label)\n",
    "            tokens = clause.split(\" \")\n",
    "            last_token = tokens[-1]\n",
    "            \n",
    "        sentence_seq.append(sentence)\n",
    "        RCT_labels = [firstConvertion[label] for label in labels]\n",
    "        new_label_seq.append(hierarchicalDecision(RCT_labels))\n",
    "        \n",
    "        sentence_seqs.append(sentence_seq)\n",
    "        new_label_seqs.append(new_label_seq)\n",
    "\n",
    "    return sentence_seqs, new_label_seqs"
   ]
  },
  {
   "cell_type": "code",
   "execution_count": 56,
   "metadata": {},
   "outputs": [],
   "source": [
    "str_seqs, label_seqs = read_passages(\"lucky_train.txt\", True)"
   ]
  },
  {
   "cell_type": "code",
   "execution_count": 57,
   "metadata": {},
   "outputs": [],
   "source": [
    "new_str_seqs, new_label_seqs = clause2sentence(str_seqs, label_seqs)"
   ]
  },
  {
   "cell_type": "code",
   "execution_count": 58,
   "metadata": {},
   "outputs": [],
   "source": [
    "with open(\"lucky_train_sentence.txt\",\"w\") as f:\n",
    "    for str_seq, label_seq in zip(new_str_seqs, new_label_seqs):\n",
    "        for sentence, label in zip(str_seq, label_seq):\n",
    "            f.write(sentence+\"\\t\"+label+\"\\n\")\n",
    "        f.write(\"\\n\")"
   ]
  },
  {
   "cell_type": "code",
   "execution_count": null,
   "metadata": {},
   "outputs": [],
   "source": []
  }
 ],
 "metadata": {
  "kernelspec": {
   "display_name": "Python [conda env:keras_classic]",
   "language": "python",
   "name": "conda-env-keras_classic-py"
  },
  "language_info": {
   "codemirror_mode": {
    "name": "ipython",
    "version": 3
   },
   "file_extension": ".py",
   "mimetype": "text/x-python",
   "name": "python",
   "nbconvert_exporter": "python",
   "pygments_lexer": "ipython3",
   "version": "3.6.9"
  }
 },
 "nbformat": 4,
 "nbformat_minor": 2
}
