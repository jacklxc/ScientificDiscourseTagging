{
 "cells": [
  {
   "cell_type": "code",
   "execution_count": 1,
   "metadata": {},
   "outputs": [
    {
     "name": "stderr",
     "output_type": "stream",
     "text": [
      "Using TensorFlow backend.\n"
     ]
    }
   ],
   "source": [
    "import os\n",
    "import warnings\n",
    "import sys\n",
    "import codecs\n",
    "import numpy as np\n",
    "import argparse\n",
    "import json\n",
    "import pickle\n",
    "\n",
    "from util import read_passages, evaluate, make_folds, clean_words, test_f1, to_BIO, from_BIO, from_BIO_ind, arg2param\n",
    "\n",
    "import tensorflow as tf\n",
    "config = tf.ConfigProto()\n",
    "config.gpu_options.per_process_gpu_memory_fraction = 1.0\n",
    "config.gpu_options.allow_growth = True  # dynamically grow the memory used on the GPU\n",
    "sess = tf.Session(config=config)\n",
    "import keras.backend as K\n",
    "K.set_session(sess)\n",
    "from keras.activations import softmax\n",
    "from keras.regularizers import l2\n",
    "from keras.models import Model, model_from_json\n",
    "from keras.layers import Input, LSTM, Dense, Dropout, TimeDistributed, Bidirectional\n",
    "from keras.callbacks import EarlyStopping,LearningRateScheduler, ModelCheckpoint\n",
    "from keras.optimizers import Adam, RMSprop, SGD\n",
    "from crf import CRF\n",
    "from attention import TensorAttention\n",
    "from custom_layers import HigherOrderTimeDistributedDense\n",
    "from generator import BertDiscourseGenerator\n",
    "from keras_bert import load_trained_model_from_checkpoint, Tokenizer\n",
    "\n",
    "from discourse_tagger_generator_bert import PassageTagger\n",
    "\n",
    "import matplotlib.pyplot as plt\n",
    "from scipy.special import softmax\n",
    "from matplotlib import transforms"
   ]
  },
  {
   "cell_type": "code",
   "execution_count": 2,
   "metadata": {},
   "outputs": [],
   "source": [
    "use_attention = True\n",
    "att_context = \"LSTM_clause\"\n",
    "bidirectional = bid = True\n",
    "crf = True\n",
    "lstm = False\n",
    "maxseqlen = 40\n",
    "maxclauselen = 60\n",
    "input_size = 768\n",
    "embedding_dropout=0.4 \n",
    "high_dense_dropout=0.4\n",
    "attention_dropout=0.6\n",
    "lstm_dropout=0.5\n",
    "word_proj_dim=300 \n",
    "hard_k=0 \n",
    "lstm_dim = 350 \n",
    "rec_hid_dim = 75 \n",
    "att_proj_dim = 200 \n",
    "batch_size = 10\n",
    "reg=0\n"
   ]
  },
  {
   "cell_type": "code",
   "execution_count": 3,
   "metadata": {},
   "outputs": [],
   "source": [
    "prefix=\"scidt_scibert/\"\n",
    "model_ext = \"att=%s_cont=%s_lstm=%s_bi=%s_crf=%s\"%(str(use_attention), att_context, str(lstm), str(bid), str(crf))\n",
    "model_config_file = open(prefix+\"model_%s_config.json\"%model_ext, \"r\")\n",
    "model_weights_file_name = prefix+\"model_%s_weights\"%model_ext\n",
    "model_label_ind = prefix+\"model_%s_label_ind.json\"%model_ext\n",
    "label_ind_json = json.load(open(model_label_ind))\n",
    "label_ind = {k: int(label_ind_json[k]) for k in label_ind_json}\n",
    "num_classes = len(label_ind)"
   ]
  },
  {
   "cell_type": "code",
   "execution_count": 4,
   "metadata": {},
   "outputs": [],
   "source": [
    "if use_attention:\n",
    "    inputs = Input(shape=(maxseqlen, maxclauselen, input_size))\n",
    "    x = Dropout(embedding_dropout)(inputs)\n",
    "    x = HigherOrderTimeDistributedDense(input_dim=input_size, output_dim=word_proj_dim, reg=reg)(x)\n",
    "    att_input_shape = (maxseqlen, maxclauselen, word_proj_dim)\n",
    "    x = Dropout(high_dense_dropout)(x)\n",
    "    x, raw_attention = TensorAttention(att_input_shape, context=att_context, hard_k=hard_k, proj_dim = att_proj_dim, rec_hid_dim = rec_hid_dim, return_attention=True)(x)\n",
    "    x = Dropout(attention_dropout)(x)\n",
    "else:\n",
    "    inputs = Input(shape=(maxseqlen, input_size))\n",
    "    x = Dropout(embedding_dropout)(inputs)\n",
    "    x = TimeDistributed(Dense(input_dim=input_size, units=word_proj_dim))\n",
    "\n",
    "if bidirectional:\n",
    "    x = Bidirectional(LSTM(input_shape=(maxseqlen,word_proj_dim), units=lstm_dim, \n",
    "                                  return_sequences=True,kernel_regularizer=l2(reg),\n",
    "                                  recurrent_regularizer=l2(reg), \n",
    "                                  bias_regularizer=l2(reg)))(x)\n",
    "    x = Dropout(lstm_dropout)(x) \n",
    "elif lstm:\n",
    "    x = LSTM(input_shape=(maxseqlen,word_proj_dim), units=lstm_dim, return_sequences=True,\n",
    "                    kernel_regularizer=l2(reg),\n",
    "                    recurrent_regularizer=l2(reg), \n",
    "                    bias_regularizer=l2(reg))(x)\n",
    "    x = Dropout(lstm_dropout)(x) \n",
    "\n",
    "if crf:\n",
    "    Crf = CRF(num_classes,learn_mode=\"join\")\n",
    "    discourse_prediction = Crf(x)\n",
    "    tagger = Model(inputs=inputs, outputs=[discourse_prediction])        \n",
    "else:\n",
    "    discourse_prediction = TimeDistributed(Dense(num_classes, activation='softmax'),name='discourse')(x)\n",
    "    tagger = Model(inputs=inputs, outputs=[discourse_prediction])"
   ]
  },
  {
   "cell_type": "code",
   "execution_count": 5,
   "metadata": {},
   "outputs": [],
   "source": [
    "tagger.load_weights(model_weights_file_name)\n"
   ]
  },
  {
   "cell_type": "code",
   "execution_count": 6,
   "metadata": {},
   "outputs": [],
   "source": [
    "if crf:\n",
    "    tagger.compile(optimizer=Adam(), loss=Crf.loss_function, metrics=[Crf.accuracy])\n",
    "else:\n",
    "    tagger.compile(loss='categorical_crossentropy', optimizer=Adam(), metrics=['accuracy'])"
   ]
  },
  {
   "cell_type": "code",
   "execution_count": 7,
   "metadata": {},
   "outputs": [],
   "source": [
    "inp = tagger.input\n",
    "attention_output = tagger.layers[4].output[1]"
   ]
  },
  {
   "cell_type": "code",
   "execution_count": 8,
   "metadata": {},
   "outputs": [],
   "source": [
    "functor = K.function([inp, K.learning_phase()], [attention_output])"
   ]
  },
  {
   "cell_type": "code",
   "execution_count": 9,
   "metadata": {},
   "outputs": [],
   "source": [
    "test_file = \"lucky_test.txt\""
   ]
  },
  {
   "cell_type": "code",
   "execution_count": 10,
   "metadata": {},
   "outputs": [],
   "source": [
    "params = {\n",
    "    \"repfile\":\"/nas/home/xiangcil/scibert_scivocab_uncased\",\n",
    "    \"use_attention\": True,\n",
    "    \"batch_size\": 10,\n",
    "    \"maxseqlen\": 40,\n",
    "    \"maxclauselen\": 60\n",
    "         }"
   ]
  },
  {
   "cell_type": "code",
   "execution_count": 11,
   "metadata": {},
   "outputs": [],
   "source": [
    "pretrained_path = params[\"repfile\"]\n",
    "config_path = os.path.join(pretrained_path, 'bert_config.json')\n",
    "checkpoint_path = os.path.join(pretrained_path, 'bert_model.ckpt')\n",
    "vocab_path = os.path.join(pretrained_path, 'vocab.txt')\n",
    "\n",
    "bert = load_trained_model_from_checkpoint(config_path, checkpoint_path)\n",
    "bert._make_predict_function() # Crucial step, otherwise TF will give error.\n",
    "\n",
    "token_dict = {}\n",
    "with codecs.open(vocab_path, 'r', 'utf8') as reader:\n",
    "    for line in reader:\n",
    "        token = line.strip()\n",
    "        token_dict[token] = len(token_dict)\n",
    "tokenizer = Tokenizer(token_dict)  "
   ]
  },
  {
   "cell_type": "code",
   "execution_count": 12,
   "metadata": {},
   "outputs": [],
   "source": [
    "str_seqs, label_seqs = read_passages(test_file, is_labeled=True)\n",
    "str_seqs = clean_words(str_seqs)\n",
    "label_seqs = to_BIO(label_seqs)"
   ]
  },
  {
   "cell_type": "code",
   "execution_count": 13,
   "metadata": {},
   "outputs": [],
   "source": [
    "bert_generator = BertDiscourseGenerator(bert, tokenizer, str_seqs, label_seqs, label_ind, 10, True, 40, 60, True, input_size=768)"
   ]
  },
  {
   "cell_type": "code",
   "execution_count": 14,
   "metadata": {},
   "outputs": [],
   "source": [
    "test_X, test_Y = bert_generator.make_data(str_seqs, label_seqs)"
   ]
  },
  {
   "cell_type": "code",
   "execution_count": 15,
   "metadata": {},
   "outputs": [],
   "source": [
    "attention_raw_scores = functor([test_X])[0]"
   ]
  },
  {
   "cell_type": "code",
   "execution_count": 16,
   "metadata": {},
   "outputs": [],
   "source": [
    "attention_scores = softmax(attention_raw_scores,axis=-1)"
   ]
  },
  {
   "cell_type": "code",
   "execution_count": 17,
   "metadata": {},
   "outputs": [],
   "source": [
    "reverse_token_dict = {v:k for k,v in token_dict.items()}"
   ]
  },
  {
   "cell_type": "code",
   "execution_count": 18,
   "metadata": {},
   "outputs": [],
   "source": [
    "str_seqs_tokenized = []\n",
    "for str_seq in str_seqs:\n",
    "    str_seq_tokenized = []\n",
    "    for clause in str_seq:\n",
    "        clause_tokenized = []\n",
    "        indices, segments = tokenizer.encode(clause.lower(), max_len=512)\n",
    "        for i in range(60):\n",
    "            clause_tokenized.append(reverse_token_dict[indices[i]])\n",
    "        str_seq_tokenized.append(clause_tokenized)\n",
    "    str_seqs_tokenized.append(str_seq_tokenized)"
   ]
  },
  {
   "cell_type": "code",
   "execution_count": 19,
   "metadata": {},
   "outputs": [
    {
     "data": {
      "image/png": "[encoded data removed]",
      "text/plain": [
       "<Figure size 432x288 with 2 Axes>"
      ]
     },
     "metadata": {
      "needs_background": "light"
     },
     "output_type": "display_data"
    }
   ],
   "source": [
    "plt.figure()\n",
    "plt.imshow(attention_raw_scores[0,:,:],cmap='gray',aspect=\"equal\",interpolation='none')\n",
    "plt.ylabel(\"discourse ID\")\n",
    "plt.xlabel(\"word ID\")\n",
    "plt.colorbar()\n",
    "plt.show()"
   ]
  },
  {
   "cell_type": "code",
   "execution_count": 20,
   "metadata": {},
   "outputs": [],
   "source": [
    "goal_string = str_seqs_tokenized[5][-5][1:10]\n",
    "goal_weight = attention_raw_scores[5,-5,1:10]"
   ]
  },
  {
   "cell_type": "code",
   "execution_count": 21,
   "metadata": {
    "scrolled": true
   },
   "outputs": [
    {
     "name": "stdout",
     "output_type": "stream",
     "text": [
      "[CLS] 0.013400033\n",
      "to 0.31812173\n",
      "further 0.1630611\n",
      "test 0.054072104\n",
      "the 0.00474126\n",
      "function 0.0029656326\n",
      "of 0.00039091977\n",
      "rag 0.00032799493\n",
      "in 0.0008577317\n",
      "autophagy 0.0020636402\n",
      "[SEP] 0.0064929314\n",
      "[PAD] 0.004492862\n",
      "[PAD] 0.010073828\n",
      "[PAD] 0.009908647\n",
      "[PAD] 0.0010647355\n",
      "[PAD] 0.00067480846\n",
      "[PAD] 0.0011975939\n",
      "[PAD] 0.0011656365\n",
      "[PAD] 0.0030189175\n",
      "[PAD] 0.03283101\n",
      "[PAD] 0.0044681006\n",
      "[PAD] 0.004780543\n",
      "[PAD] 0.0006753908\n",
      "[PAD] 0.0004371016\n",
      "[PAD] 0.0011385672\n",
      "[PAD] 0.00093250297\n",
      "[PAD] 0.0022924033\n",
      "[PAD] 0.00216708\n",
      "[PAD] 0.0033607858\n",
      "[PAD] 0.00054277485\n",
      "[PAD] 0.0005099491\n",
      "[PAD] 0.0009743285\n",
      "[PAD] 0.0018046363\n",
      "[PAD] 0.009933185\n",
      "[PAD] 0.018062154\n",
      "[PAD] 0.02046034\n",
      "[PAD] 0.0035980484\n",
      "[PAD] 0.0065378146\n",
      "[PAD] 0.035535365\n",
      "[PAD] 0.058377814\n",
      "[PAD] 0.1129405\n",
      "[PAD] 0.005661178\n",
      "[PAD] 0.005394397\n",
      "[PAD] 0.0008643695\n",
      "[PAD] 0.00039725823\n",
      "[PAD] 0.0007317628\n",
      "[PAD] 0.00077280524\n",
      "[PAD] 0.0019024039\n",
      "[PAD] 0.0019956538\n",
      "[PAD] 0.0020316269\n",
      "[PAD] 0.00081582635\n",
      "[PAD] 0.0011760269\n",
      "[PAD] 0.0015746099\n",
      "[PAD] 0.010288909\n",
      "[PAD] 0.020508904\n",
      "[PAD] 0.019656837\n",
      "[PAD] 0.0015959104\n",
      "[PAD] 0.0008376794\n",
      "[PAD] 0.0015487925\n",
      "[PAD] 0.0017928369\n"
     ]
    }
   ],
   "source": [
    "# goal\n",
    "for token, weight in zip(str_seqs_tokenized[5][-5], attention_scores[5,-5,:]):\n",
    "    print(token, weight)"
   ]
  },
  {
   "cell_type": "code",
   "execution_count": 22,
   "metadata": {},
   "outputs": [],
   "source": [
    "method_string = str_seqs_tokenized[5][-4][1:12]\n",
    "method_weight = attention_raw_scores[5,-4,1:12]"
   ]
  },
  {
   "cell_type": "code",
   "execution_count": 23,
   "metadata": {
    "scrolled": true
   },
   "outputs": [
    {
     "name": "stdout",
     "output_type": "stream",
     "text": [
      "[CLS] 0.03230634\n",
      "we 0.06575207\n",
      "examined 0.062973045\n",
      "the 0.004083869\n",
      "lc 0.0010154053\n",
      "##3 0.0011969145\n",
      "modification 0.0038189052\n",
      "in 0.014905101\n",
      "hek 0.0010344912\n",
      "##293 0.0021147772\n",
      "cells 0.008637033\n",
      ". 0.0021345052\n",
      "[SEP] 0.020099903\n",
      "[PAD] 0.0073203994\n",
      "[PAD] 0.0546677\n",
      "[PAD] 0.016637152\n",
      "[PAD] 0.038170848\n",
      "[PAD] 0.008206516\n",
      "[PAD] 0.0064173504\n",
      "[PAD] 0.0031112304\n",
      "[PAD] 0.0032729267\n",
      "[PAD] 0.0049326182\n",
      "[PAD] 0.010613975\n",
      "[PAD] 0.019414006\n",
      "[PAD] 0.007973953\n",
      "[PAD] 0.0031304061\n",
      "[PAD] 0.002765525\n",
      "[PAD] 0.002671625\n",
      "[PAD] 0.00341922\n",
      "[PAD] 0.011053072\n",
      "[PAD] 0.011468555\n",
      "[PAD] 0.010722521\n",
      "[PAD] 0.015724737\n",
      "[PAD] 0.004101904\n",
      "[PAD] 0.0035599133\n",
      "[PAD] 0.020902833\n",
      "[PAD] 0.04571804\n",
      "[PAD] 0.03834991\n",
      "[PAD] 0.0656269\n",
      "[PAD] 0.090605825\n",
      "[PAD] 0.011266035\n",
      "[PAD] 0.0014124743\n",
      "[PAD] 0.0023323148\n",
      "[PAD] 0.008826168\n",
      "[PAD] 0.01990922\n",
      "[PAD] 0.006161961\n",
      "[PAD] 0.002504559\n",
      "[PAD] 0.0025769095\n",
      "[PAD] 0.0020608632\n",
      "[PAD] 0.020684073\n",
      "[PAD] 0.025546812\n",
      "[PAD] 0.015133109\n",
      "[PAD] 0.0144009255\n",
      "[PAD] 0.0041189087\n",
      "[PAD] 0.0035342737\n",
      "[PAD] 0.034169603\n",
      "[PAD] 0.04891791\n",
      "[PAD] 0.01730519\n",
      "[PAD] 0.023334283\n",
      "[PAD] 0.0051723104\n"
     ]
    }
   ],
   "source": [
    "# method\n",
    "for token, weight in zip(str_seqs_tokenized[5][-4], attention_scores[5,-4,:]):\n",
    "    print(token, weight)"
   ]
  },
  {
   "cell_type": "code",
   "execution_count": 50,
   "metadata": {},
   "outputs": [],
   "source": [
    "results_string = str_seqs_tokenized[5][-3][1:14]\n",
    "results_weight = attention_raw_scores[5,-3,1:14]"
   ]
  },
  {
   "cell_type": "code",
   "execution_count": 40,
   "metadata": {},
   "outputs": [],
   "source": [
    "results_string = str_seqs_tokenized[34][-6][1:21]\n",
    "results_weight = attention_raw_scores[34,-6,1:21]"
   ]
  },
  {
   "cell_type": "code",
   "execution_count": 25,
   "metadata": {},
   "outputs": [
    {
     "data": {
      "text/plain": [
       "array([ 0.86675406, -1.7732067 , -2.9266357 , -2.808795  , -2.9671485 ,\n",
       "       -3.4789515 , -4.326325  , -3.5734642 ,  0.39682147,  2.1762378 ,\n",
       "       -0.93599564, -0.57774717, -0.35994554], dtype=float32)"
      ]
     },
     "execution_count": 25,
     "metadata": {},
     "output_type": "execute_result"
    }
   ],
   "source": [
    "results_weight"
   ]
  },
  {
   "cell_type": "code",
   "execution_count": 26,
   "metadata": {
    "scrolled": true
   },
   "outputs": [
    {
     "name": "stdout",
     "output_type": "stream",
     "text": [
      "[CLS] 0.08107085\n",
      "expression 0.031627353\n",
      "of 0.0022570565\n",
      "rag 0.0007122207\n",
      "##a 0.0008012945\n",
      "ql 0.0006839431\n",
      "and 0.0004099651\n",
      "rag 0.00017568597\n",
      "##c 0.0003729928\n",
      "sn 0.0197685\n",
      "inhibited 0.11715596\n",
      "lc 0.005213611\n",
      "##3 0.0074597425\n",
      "conversion 0.009275003\n",
      "in 0.009368172\n",
      "response 0.01728051\n",
      "to 0.011764066\n",
      "amino 0.0013677689\n",
      "acid 0.0029441456\n",
      "starvation 0.008441797\n",
      "( 0.05665356\n",
      "fig 0.07855153\n",
      ". 0.007413407\n",
      "7 0.002268498\n",
      "##e 0.0044586915\n",
      ") 0.014881012\n",
      ". 0.0032192192\n",
      "[SEP] 0.051463254\n",
      "[PAD] 0.010603226\n",
      "[PAD] 0.016779572\n",
      "[PAD] 0.023665426\n",
      "[PAD] 0.039294302\n",
      "[PAD] 0.012387581\n",
      "[PAD] 0.0038096986\n",
      "[PAD] 0.0073135644\n",
      "[PAD] 0.0047938623\n",
      "[PAD] 0.043167155\n",
      "[PAD] 0.049979344\n",
      "[PAD] 0.01702229\n",
      "[PAD] 0.014287903\n",
      "[PAD] 0.0039117914\n",
      "[PAD] 0.005558258\n",
      "[PAD] 0.001734003\n",
      "[PAD] 0.0033897734\n",
      "[PAD] 0.0016695977\n",
      "[PAD] 0.001070946\n",
      "[PAD] 0.0048521985\n",
      "[PAD] 0.003954503\n",
      "[PAD] 0.0045268675\n",
      "[PAD] 0.01641379\n",
      "[PAD] 0.022082303\n",
      "[PAD] 0.011145219\n",
      "[PAD] 0.017425463\n",
      "[PAD] 0.0045502423\n",
      "[PAD] 0.0034704509\n",
      "[PAD] 0.003649546\n",
      "[PAD] 0.031080898\n",
      "[PAD] 0.0456415\n",
      "[PAD] 0.01645221\n",
      "[PAD] 0.0072564385\n"
     ]
    }
   ],
   "source": [
    "# results\n",
    "for token, weight in zip(str_seqs_tokenized[5][-3], attention_scores[5,-3,:]):\n",
    "    print(token, weight)"
   ]
  },
  {
   "cell_type": "code",
   "execution_count": null,
   "metadata": {},
   "outputs": [],
   "source": [
    "implication_string = str_seqs_tokenized[34][-6][1:21]\n",
    "implication_weight = attention_raw_scores[34,-6,1:21]"
   ]
  },
  {
   "cell_type": "code",
   "execution_count": 48,
   "metadata": {},
   "outputs": [
    {
     "name": "stdout",
     "output_type": "stream",
     "text": [
      "[CLS] 0.028863741\n",
      "@ 0.06808214\n",
      "hrs 0.042228457\n",
      "later 0.09427474\n",
      ", 0.018657615\n",
      "@ 0.010902164\n",
      "mum 0.016785294\n",
      "of 0.008311942\n",
      "sirna 0.01414978\n",
      "( 0.018814009\n",
      "final 0.0064142547\n",
      "concentration 0.0076804277\n",
      ") 0.0010799159\n",
      "were 0.016262738\n",
      "transfected 0.015904922\n",
      "[SEP] 0.008160337\n",
      "[PAD] 0.0038477986\n",
      "[PAD] 0.018740721\n",
      "[PAD] 0.023950279\n",
      "[PAD] 0.008665704\n",
      "[PAD] 0.005277837\n",
      "[PAD] 0.006872843\n",
      "[PAD] 0.0031449744\n",
      "[PAD] 0.0048338487\n",
      "[PAD] 0.0072443173\n",
      "[PAD] 0.016827984\n",
      "[PAD] 0.004964975\n",
      "[PAD] 0.009403878\n",
      "[PAD] 0.0058818115\n",
      "[PAD] 0.0027296143\n",
      "[PAD] 0.0054960256\n",
      "[PAD] 0.02381097\n",
      "[PAD] 0.031959046\n",
      "[PAD] 0.023501502\n",
      "[PAD] 0.029421002\n",
      "[PAD] 0.019695265\n",
      "[PAD] 0.0070037507\n",
      "[PAD] 0.006307026\n",
      "[PAD] 0.027804963\n",
      "[PAD] 0.035719655\n",
      "[PAD] 0.0314759\n",
      "[PAD] 0.013258148\n",
      "[PAD] 0.011399982\n",
      "[PAD] 0.012783347\n",
      "[PAD] 0.009198705\n",
      "[PAD] 0.0066758213\n",
      "[PAD] 0.016983226\n",
      "[PAD] 0.0062727984\n",
      "[PAD] 0.0064866277\n",
      "[PAD] 0.006454958\n",
      "[PAD] 0.008155\n",
      "[PAD] 0.005170609\n",
      "[PAD] 0.023908997\n",
      "[PAD] 0.016350454\n",
      "[PAD] 0.023385696\n",
      "[PAD] 0.02252571\n",
      "[PAD] 0.007830458\n",
      "[PAD] 0.006665649\n",
      "[PAD] 0.034271915\n",
      "[PAD] 0.021068048\n"
     ]
    }
   ],
   "source": [
    "for token, weight in zip(str_seqs_tokenized[50][-2], attention_scores[50,-2,:]):\n",
    "    print(token, weight)"
   ]
  },
  {
   "cell_type": "code",
   "execution_count": 43,
   "metadata": {},
   "outputs": [
    {
     "data": {
      "text/plain": [
       "['fact',\n",
       " 'fact',\n",
       " 'fact',\n",
       " 'fact',\n",
       " 'fact',\n",
       " 'fact',\n",
       " 'fact',\n",
       " 'hypothesis',\n",
       " 'implication',\n",
       " 'implication']"
      ]
     },
     "execution_count": 43,
     "metadata": {},
     "output_type": "execute_result"
    }
   ],
   "source": [
    "label_seqs[59]"
   ]
  },
  {
   "cell_type": "code",
   "execution_count": 27,
   "metadata": {},
   "outputs": [],
   "source": [
    "label_seqs = from_BIO(label_seqs)"
   ]
  },
  {
   "cell_type": "code",
   "execution_count": 28,
   "metadata": {
    "scrolled": true
   },
   "outputs": [
    {
     "name": "stdout",
     "output_type": "stream",
     "text": [
      "0 16.615384615384617 2\n",
      "1 14.526315789473685 4\n",
      "2 18.0 3\n",
      "3 16.043478260869566 4\n",
      "4 11.0 2\n",
      "5 18.333333333333332 5\n",
      "6 31.6 1\n",
      "7 19.09090909090909 3\n",
      "8 19.0 2\n",
      "9 17.3125 4\n",
      "10 20.25 3\n",
      "11 13.454545454545455 3\n",
      "12 17.071428571428573 4\n",
      "13 22.083333333333332 4\n",
      "14 23.0 1\n",
      "15 13.0 1\n",
      "16 13.666666666666666 4\n",
      "17 19.363636363636363 4\n",
      "18 35.0 1\n",
      "19 12.166666666666666 1\n",
      "20 17.333333333333332 4\n",
      "21 18.56 5\n",
      "22 20.428571428571427 4\n",
      "23 27.428571428571427 1\n",
      "24 23.25 1\n",
      "25 16.666666666666668 4\n",
      "26 16.22222222222222 3\n",
      "27 13.055555555555555 7\n",
      "28 25.444444444444443 2\n",
      "29 7.0 2\n",
      "30 19.0 2\n",
      "31 18.22222222222222 4\n",
      "32 15.833333333333334 4\n",
      "33 22.1 1\n",
      "34 11.875 4\n",
      "35 20.736842105263158 5\n",
      "36 13.529411764705882 5\n",
      "37 30.166666666666668 1\n",
      "38 15.68421052631579 6\n",
      "39 15.7 5\n",
      "40 23.75 1\n",
      "41 17.0 3\n",
      "42 12.333333333333334 1\n",
      "43 32.4 2\n",
      "44 18.5 2\n",
      "45 14.777777777777779 4\n",
      "46 17.333333333333332 2\n",
      "47 16.7 4\n",
      "48 14.470588235294118 5\n",
      "49 19.714285714285715 2\n",
      "50 15.0 1\n",
      "51 18.8 3\n",
      "52 21.333333333333332 4\n",
      "53 20.333333333333332 2\n",
      "54 44.75 2\n",
      "55 18.818181818181817 3\n",
      "56 13.222222222222221 4\n",
      "57 18.0 3\n",
      "58 13.2 1\n",
      "59 15.6 3\n",
      "60 37.0 1\n",
      "61 23.1 3\n",
      "62 15.555555555555555 1\n",
      "63 17.1875 3\n"
     ]
    }
   ],
   "source": [
    "for i, (str_seq, label_seq) in enumerate(zip(str_seqs, label_seqs)):\n",
    "    print(i,np.mean([len(clause.split()) for clause in str_seq]), len(set(label_seq)))"
   ]
  },
  {
   "cell_type": "code",
   "execution_count": 29,
   "metadata": {},
   "outputs": [],
   "source": [
    "def normalize(array):\n",
    "    low = np.min(array)\n",
    "    high = np.max(array)\n",
    "    return (array - low) / (high - low)"
   ]
  },
  {
   "cell_type": "code",
   "execution_count": null,
   "metadata": {},
   "outputs": [],
   "source": [
    "def attention_text(x, y, strings, alphas, orientation='horizontal',\n",
    "                 ax=None, **kwargs):\n",
    "    if ax is None:\n",
    "        ax = plt.gca()\n",
    "    ax.axis('off')\n",
    "    t = ax.transData\n",
    "    canvas = ax.figure.canvas\n",
    "\n",
    "    assert orientation in ['horizontal', 'vertical']\n",
    "    if orientation == 'vertical':\n",
    "        kwargs.update(rotation=90, verticalalignment='bottom')\n",
    "\n",
    "    for s, alpha in zip(strings, alphas):\n",
    "        text = ax.text(x, y, s + \" \", alpha=alpha, transform=t, **kwargs)\n",
    "\n",
    "        # Need to draw to update the text position.\n",
    "        text.draw(canvas.get_renderer())\n",
    "        ex = text.get_window_extent()\n",
    "        if orientation == 'horizontal':\n",
    "            t = transforms.offset_copy(\n",
    "                text.get_transform(), x=ex.width, units='dots')\n",
    "        else:\n",
    "            t = transforms.offset_copy(\n",
    "                text.get_transform(), y=ex.height, units='dots')\n",
    "\n",
    "\n",
    "alphas = np.arange(1,9) * 0.1\n",
    "fig = plt.figure(figsize=(6, 0.3))\n",
    "attention_text(0, 4, goal_string, normalize(goal_weight), size=30)\n",
    "attention_text(0, 2, method_string, normalize(method_weight), size=24)\n",
    "attention_text(0, 0, results_string, normalize(results_weight), size=21)\n",
    "#plt.show()\n",
    "filename = \"attention_visualization.pdf\"\n",
    "plt.savefig(filename,quality=100,bbox_inches='tight')"
   ]
  },
  {
   "cell_type": "code",
   "execution_count": 56,
   "metadata": {},
   "outputs": [
    {
     "data": {
      "image/png": "[encoded data removed]",
      "text/plain": [
       "<Figure size 432x21.6 with 1 Axes>"
      ]
     },
     "metadata": {
      "needs_background": "light"
     },
     "output_type": "display_data"
    }
   ],
   "source": [
    "def attention_text(x, y, strings, alphas, orientation='horizontal',\n",
    "                 ax=None, **kwargs):\n",
    "    if ax is None:\n",
    "        ax = plt.gca()\n",
    "    ax.axis('off')\n",
    "    t = ax.transData\n",
    "    canvas = ax.figure.canvas\n",
    "\n",
    "    assert orientation in ['horizontal', 'vertical']\n",
    "    if orientation == 'vertical':\n",
    "        kwargs.update(rotation=90, verticalalignment='bottom')\n",
    "\n",
    "    for s, alpha in zip(strings, alphas):\n",
    "        text = ax.text(x, y, s + \" \", size=alpha*30, transform=t, **kwargs)\n",
    "\n",
    "        # Need to draw to update the text position.\n",
    "        text.draw(canvas.get_renderer())\n",
    "        ex = text.get_window_extent()\n",
    "        if orientation == 'horizontal':\n",
    "            t = transforms.offset_copy(\n",
    "                text.get_transform(), x=ex.width, units='dots')\n",
    "        else:\n",
    "            t = transforms.offset_copy(\n",
    "                text.get_transform(), y=ex.height, units='dots')\n",
    "\n",
    "\n",
    "alphas = np.arange(1,9) * 0.1\n",
    "fig = plt.figure(figsize=(6, 0.3))\n",
    "attention_text(0, 4, goal_string, normalize(goal_weight))\n",
    "attention_text(0, 2, method_string, normalize(method_weight))\n",
    "attention_text(0, 0, results_string, normalize(results_weight))\n",
    "#plt.show()\n",
    "filename = \"attention_visualization.pdf\"\n",
    "plt.savefig(filename,quality=100,bbox_inches='tight')"
   ]
  },
  {
   "cell_type": "code",
   "execution_count": null,
   "metadata": {},
   "outputs": [],
   "source": []
  }
 ],
 "metadata": {
  "kernelspec": {
   "display_name": "Python 3",
   "language": "python",
   "name": "python3"
  },
  "language_info": {
   "codemirror_mode": {
    "name": "ipython",
    "version": 3
   },
   "file_extension": ".py",
   "mimetype": "text/x-python",
   "name": "python",
   "nbconvert_exporter": "python",
   "pygments_lexer": "ipython3",
   "version": "3.6.9"
  }
 },
 "nbformat": 4,
 "nbformat_minor": 2
}
