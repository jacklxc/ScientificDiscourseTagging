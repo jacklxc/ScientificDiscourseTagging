{
 "cells": [
  {
   "cell_type": "code",
   "execution_count": 1,
   "metadata": {},
   "outputs": [],
   "source": [
    "import json"
   ]
  },
  {
   "cell_type": "code",
   "execution_count": 2,
   "metadata": {},
   "outputs": [],
   "source": [
    "jsons = []\n",
    "with open(\"train_labels.json\") as f:\n",
    "    for line in f:\n",
    "        jsons.append(json.loads(line))"
   ]
  },
  {
   "cell_type": "code",
   "execution_count": 3,
   "metadata": {},
   "outputs": [],
   "source": [
    "paragraphs = []\n",
    "for i in range(len(jsons)):\n",
    "    paragraph = []\n",
    "    for sentence, label in zip(jsons[i][\"sentences\"],jsons[i][\"labels\"]):\n",
    "        paragraph.append(sentence+\"\\t\"+label)\n",
    "    paragraphs.append(paragraph)"
   ]
  },
  {
   "cell_type": "code",
   "execution_count": 4,
   "metadata": {},
   "outputs": [],
   "source": [
    "with open(\"claim_train.txt\",\"w\") as wf:\n",
    "    for paragraph in paragraphs:\n",
    "        if \"\\n\" in paragraph[0]:\n",
    "            #print(paragraph)\n",
    "            continue\n",
    "        else:\n",
    "            for line in paragraph:\n",
    "                if \"\\n\" in line:\n",
    "                    print(line)\n",
    "                    continue\n",
    "                wf.write(line+\"\\n\")\n",
    "            wf.write(\"\\n\")\n",
    "        "
   ]
  },
  {
   "cell_type": "code",
   "execution_count": null,
   "metadata": {},
   "outputs": [],
   "source": []
  }
 ],
 "metadata": {
  "kernelspec": {
   "display_name": "Python 3",
   "language": "python",
   "name": "python3"
  },
  "language_info": {
   "codemirror_mode": {
    "name": "ipython",
    "version": 3
   },
   "file_extension": ".py",
   "mimetype": "text/x-python",
   "name": "python",
   "nbconvert_exporter": "python",
   "pygments_lexer": "ipython3",
   "version": "3.7.4"
  }
 },
 "nbformat": 4,
 "nbformat_minor": 2
}
